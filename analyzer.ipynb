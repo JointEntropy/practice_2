{
 "cells": [
  {
   "cell_type": "code",
   "execution_count": 48,
   "metadata": {},
   "outputs": [
    {
     "name": "stdout",
     "output_type": "stream",
     "text": [
      "Populating the interactive namespace from numpy and matplotlib\n"
     ]
    }
   ],
   "source": [
    "#Настройка предупреждений\n",
    "import warnings\n",
    "warnings.simplefilter('ignore')\n",
    "\n",
    "#Отображение графиков в самом jupyter\n",
    "%pylab inline\n",
    "\n",
    "#Увеличиваем дефолтный размер графиков\n",
    "from pylab import rcParams\n",
    "rcParams['figure.figsize'] = 8, 5\n",
    "\n",
    "import pandas as pd\n",
    "import seaborn as sns"
   ]
  },
  {
   "cell_type": "code",
   "execution_count": 49,
   "metadata": {},
   "outputs": [
    {
     "data": {
      "text/plain": [
       "(44929, 5)"
      ]
     },
     "execution_count": 49,
     "metadata": {},
     "output_type": "execute_result"
    }
   ],
   "source": [
    "df = pd.read_csv('C:\\PyCharmProjects\\practice\\data\\stat_synthetic.csv',sep=';')\n",
    "df.shape"
   ]
  },
  {
   "cell_type": "code",
   "execution_count": 50,
   "metadata": {},
   "outputs": [
    {
     "name": "stdout",
     "output_type": "stream",
     "text": [
      "<class 'pandas.core.frame.DataFrame'>\n",
      "RangeIndex: 44929 entries, 0 to 44928\n",
      "Data columns (total 5 columns):\n",
      "id                    42559 non-null float64\n",
      "category_path         44929 non-null object\n",
      "expected_img_count    44929 non-null int64\n",
      "real_img_count        42559 non-null float64\n",
      "synthetic_data        2370 non-null object\n",
      "dtypes: float64(2), int64(1), object(2)\n",
      "memory usage: 1.7+ MB\n"
     ]
    },
    {
     "data": {
      "text/html": [
       "<div>\n",
       "<style>\n",
       "    .dataframe thead tr:only-child th {\n",
       "        text-align: right;\n",
       "    }\n",
       "\n",
       "    .dataframe thead th {\n",
       "        text-align: left;\n",
       "    }\n",
       "\n",
       "    .dataframe tbody tr th {\n",
       "        vertical-align: top;\n",
       "    }\n",
       "</style>\n",
       "<table border=\"1\" class=\"dataframe\">\n",
       "  <thead>\n",
       "    <tr style=\"text-align: right;\">\n",
       "      <th></th>\n",
       "      <th>id</th>\n",
       "      <th>category_path</th>\n",
       "      <th>expected_img_count</th>\n",
       "      <th>real_img_count</th>\n",
       "      <th>synthetic_data</th>\n",
       "    </tr>\n",
       "  </thead>\n",
       "  <tbody>\n",
       "    <tr>\n",
       "      <th>0</th>\n",
       "      <td>2231239.0</td>\n",
       "      <td>D:\\SCRAPED_DATA\\MPK\\A\\A01\\A01B\\A01B1\\A01B102</td>\n",
       "      <td>10</td>\n",
       "      <td>9.0</td>\n",
       "      <td>NaN</td>\n",
       "    </tr>\n",
       "    <tr>\n",
       "      <th>1</th>\n",
       "      <td>2285374.0</td>\n",
       "      <td>D:\\SCRAPED_DATA\\MPK\\A\\A01\\A01B\\A01B1\\A01B102</td>\n",
       "      <td>4</td>\n",
       "      <td>3.0</td>\n",
       "      <td>NaN</td>\n",
       "    </tr>\n",
       "    <tr>\n",
       "      <th>2</th>\n",
       "      <td>2246190.0</td>\n",
       "      <td>D:\\SCRAPED_DATA\\MPK\\A\\A01\\A01B\\A01B1\\A01B102</td>\n",
       "      <td>4</td>\n",
       "      <td>3.0</td>\n",
       "      <td>NaN</td>\n",
       "    </tr>\n",
       "    <tr>\n",
       "      <th>3</th>\n",
       "      <td>2218683.0</td>\n",
       "      <td>D:\\SCRAPED_DATA\\MPK\\A\\A01\\A01B\\A01B1\\A01B102</td>\n",
       "      <td>9</td>\n",
       "      <td>8.0</td>\n",
       "      <td>NaN</td>\n",
       "    </tr>\n",
       "    <tr>\n",
       "      <th>4</th>\n",
       "      <td>2391802.0</td>\n",
       "      <td>D:\\SCRAPED_DATA\\MPK\\A\\A01\\A01B\\A01B1\\A01B102</td>\n",
       "      <td>9</td>\n",
       "      <td>8.0</td>\n",
       "      <td>NaN</td>\n",
       "    </tr>\n",
       "  </tbody>\n",
       "</table>\n",
       "</div>"
      ],
      "text/plain": [
       "          id                                 category_path  \\\n",
       "0  2231239.0  D:\\SCRAPED_DATA\\MPK\\A\\A01\\A01B\\A01B1\\A01B102   \n",
       "1  2285374.0  D:\\SCRAPED_DATA\\MPK\\A\\A01\\A01B\\A01B1\\A01B102   \n",
       "2  2246190.0  D:\\SCRAPED_DATA\\MPK\\A\\A01\\A01B\\A01B1\\A01B102   \n",
       "3  2218683.0  D:\\SCRAPED_DATA\\MPK\\A\\A01\\A01B\\A01B1\\A01B102   \n",
       "4  2391802.0  D:\\SCRAPED_DATA\\MPK\\A\\A01\\A01B\\A01B1\\A01B102   \n",
       "\n",
       "   expected_img_count  real_img_count synthetic_data  \n",
       "0                  10             9.0            NaN  \n",
       "1                   4             3.0            NaN  \n",
       "2                   4             3.0            NaN  \n",
       "3                   9             8.0            NaN  \n",
       "4                   9             8.0            NaN  "
      ]
     },
     "execution_count": 50,
     "metadata": {},
     "output_type": "execute_result"
    }
   ],
   "source": [
    "df.info()\n",
    "df.head()"
   ]
  },
  {
   "cell_type": "code",
   "execution_count": 51,
   "metadata": {
    "collapsed": true
   },
   "outputs": [],
   "source": [
    "# Очистка данных:\n",
    "df['synthetic_data'] = df['synthetic_data'].fillna(False)\n",
    "df['real_img_count'] = df['real_img_count'].fillna(0)"
   ]
  },
  {
   "cell_type": "code",
   "execution_count": 52,
   "metadata": {
    "collapsed": true
   },
   "outputs": [],
   "source": [
    "# inplace модификация датафрейма\n",
    "df['category_path'].where(df['synthetic_data']==False,df['category_path'].map(lambda _:_[20:]),inplace=True)\n",
    "df['category_path'].where(df['synthetic_data']==True,df['category_path'].map(lambda _:_[20:]),inplace=True)"
   ]
  },
  {
   "cell_type": "code",
   "execution_count": 54,
   "metadata": {
    "collapsed": true
   },
   "outputs": [],
   "source": [
    "# Разделение на dataframe  с и без синтетически сгенерированной статистики\n",
    "s_df = df[df['synthetic_data'] == True] \n",
    "o_df =  df[df['synthetic_data'] == False] \n"
   ]
  },
  {
   "cell_type": "code",
   "execution_count": 55,
   "metadata": {},
   "outputs": [
    {
     "data": {
      "text/html": [
       "<div>\n",
       "<style>\n",
       "    .dataframe thead tr:only-child th {\n",
       "        text-align: right;\n",
       "    }\n",
       "\n",
       "    .dataframe thead th {\n",
       "        text-align: left;\n",
       "    }\n",
       "\n",
       "    .dataframe tbody tr th {\n",
       "        vertical-align: top;\n",
       "    }\n",
       "</style>\n",
       "<table border=\"1\" class=\"dataframe\">\n",
       "  <thead>\n",
       "    <tr style=\"text-align: right;\">\n",
       "      <th></th>\n",
       "      <th>id</th>\n",
       "      <th>category_path</th>\n",
       "      <th>expected_img_count</th>\n",
       "      <th>real_img_count</th>\n",
       "      <th>synthetic_data</th>\n",
       "    </tr>\n",
       "  </thead>\n",
       "  <tbody>\n",
       "    <tr>\n",
       "      <th>0</th>\n",
       "      <td>2231239.0</td>\n",
       "      <td>A\\A01\\A01B\\A01B1\\A01B102</td>\n",
       "      <td>10</td>\n",
       "      <td>9.0</td>\n",
       "      <td>False</td>\n",
       "    </tr>\n",
       "    <tr>\n",
       "      <th>1</th>\n",
       "      <td>2285374.0</td>\n",
       "      <td>A\\A01\\A01B\\A01B1\\A01B102</td>\n",
       "      <td>4</td>\n",
       "      <td>3.0</td>\n",
       "      <td>False</td>\n",
       "    </tr>\n",
       "    <tr>\n",
       "      <th>2</th>\n",
       "      <td>2246190.0</td>\n",
       "      <td>A\\A01\\A01B\\A01B1\\A01B102</td>\n",
       "      <td>4</td>\n",
       "      <td>3.0</td>\n",
       "      <td>False</td>\n",
       "    </tr>\n",
       "    <tr>\n",
       "      <th>3</th>\n",
       "      <td>2218683.0</td>\n",
       "      <td>A\\A01\\A01B\\A01B1\\A01B102</td>\n",
       "      <td>9</td>\n",
       "      <td>8.0</td>\n",
       "      <td>False</td>\n",
       "    </tr>\n",
       "    <tr>\n",
       "      <th>4</th>\n",
       "      <td>2391802.0</td>\n",
       "      <td>A\\A01\\A01B\\A01B1\\A01B102</td>\n",
       "      <td>9</td>\n",
       "      <td>8.0</td>\n",
       "      <td>False</td>\n",
       "    </tr>\n",
       "  </tbody>\n",
       "</table>\n",
       "</div>"
      ],
      "text/plain": [
       "          id             category_path  expected_img_count  real_img_count  \\\n",
       "0  2231239.0  A\\A01\\A01B\\A01B1\\A01B102                  10             9.0   \n",
       "1  2285374.0  A\\A01\\A01B\\A01B1\\A01B102                   4             3.0   \n",
       "2  2246190.0  A\\A01\\A01B\\A01B1\\A01B102                   4             3.0   \n",
       "3  2218683.0  A\\A01\\A01B\\A01B1\\A01B102                   9             8.0   \n",
       "4  2391802.0  A\\A01\\A01B\\A01B1\\A01B102                   9             8.0   \n",
       "\n",
       "   synthetic_data  \n",
       "0           False  \n",
       "1           False  \n",
       "2           False  \n",
       "3           False  \n",
       "4           False  "
      ]
     },
     "execution_count": 55,
     "metadata": {},
     "output_type": "execute_result"
    }
   ],
   "source": [
    "o_df.head()"
   ]
  },
  {
   "cell_type": "code",
   "execution_count": 56,
   "metadata": {},
   "outputs": [
    {
     "data": {
      "text/html": [
       "<div>\n",
       "<style>\n",
       "    .dataframe thead tr:only-child th {\n",
       "        text-align: right;\n",
       "    }\n",
       "\n",
       "    .dataframe thead th {\n",
       "        text-align: left;\n",
       "    }\n",
       "\n",
       "    .dataframe tbody tr th {\n",
       "        vertical-align: top;\n",
       "    }\n",
       "</style>\n",
       "<table border=\"1\" class=\"dataframe\">\n",
       "  <thead>\n",
       "    <tr style=\"text-align: right;\">\n",
       "      <th></th>\n",
       "      <th>id</th>\n",
       "      <th>category_path</th>\n",
       "      <th>expected_img_count</th>\n",
       "      <th>real_img_count</th>\n",
       "      <th>synthetic_data</th>\n",
       "    </tr>\n",
       "  </thead>\n",
       "  <tbody>\n",
       "    <tr>\n",
       "      <th>52</th>\n",
       "      <td>NaN</td>\n",
       "      <td>A\\A01\\A01B\\A01B1\\A01B112</td>\n",
       "      <td>105</td>\n",
       "      <td>0.0</td>\n",
       "      <td>True</td>\n",
       "    </tr>\n",
       "    <tr>\n",
       "      <th>53</th>\n",
       "      <td>NaN</td>\n",
       "      <td>A\\A01\\A01B\\A01B1\\A01B118</td>\n",
       "      <td>105</td>\n",
       "      <td>0.0</td>\n",
       "      <td>True</td>\n",
       "    </tr>\n",
       "    <tr>\n",
       "      <th>54</th>\n",
       "      <td>NaN</td>\n",
       "      <td>A\\A01\\A01B\\A01B1\\A01B124</td>\n",
       "      <td>105</td>\n",
       "      <td>0.0</td>\n",
       "      <td>True</td>\n",
       "    </tr>\n",
       "    <tr>\n",
       "      <th>96</th>\n",
       "      <td>NaN</td>\n",
       "      <td>A\\A01\\A01B\\A01B15\\A01B1512</td>\n",
       "      <td>46</td>\n",
       "      <td>0.0</td>\n",
       "      <td>True</td>\n",
       "    </tr>\n",
       "    <tr>\n",
       "      <th>110</th>\n",
       "      <td>NaN</td>\n",
       "      <td>A\\A01\\A01B\\A01B15\\A01B1520</td>\n",
       "      <td>46</td>\n",
       "      <td>0.0</td>\n",
       "      <td>True</td>\n",
       "    </tr>\n",
       "  </tbody>\n",
       "</table>\n",
       "</div>"
      ],
      "text/plain": [
       "     id               category_path  expected_img_count  real_img_count  \\\n",
       "52  NaN    A\\A01\\A01B\\A01B1\\A01B112                 105             0.0   \n",
       "53  NaN    A\\A01\\A01B\\A01B1\\A01B118                 105             0.0   \n",
       "54  NaN    A\\A01\\A01B\\A01B1\\A01B124                 105             0.0   \n",
       "96  NaN  A\\A01\\A01B\\A01B15\\A01B1512                  46             0.0   \n",
       "110 NaN  A\\A01\\A01B\\A01B15\\A01B1520                  46             0.0   \n",
       "\n",
       "     synthetic_data  \n",
       "52             True  \n",
       "53             True  \n",
       "54             True  \n",
       "96             True  \n",
       "110            True  "
      ]
     },
     "execution_count": 56,
     "metadata": {},
     "output_type": "execute_result"
    }
   ],
   "source": [
    "s_df.head()"
   ]
  },
  {
   "cell_type": "markdown",
   "metadata": {},
   "source": [
    "### Ожидаемое  и  собранное число изображений"
   ]
  },
  {
   "cell_type": "code",
   "execution_count": 67,
   "metadata": {},
   "outputs": [
    {
     "data": {
      "text/plain": [
       "expected_img_count    495293.0\n",
       "real_img_count        328562.0\n",
       "dtype: float64"
      ]
     },
     "execution_count": 67,
     "metadata": {},
     "output_type": "execute_result"
    }
   ],
   "source": [
    "# Дополненный набор данных\n",
    "df[['expected_img_count','real_img_count']].sum() "
   ]
  },
  {
   "cell_type": "code",
   "execution_count": 85,
   "metadata": {},
   "outputs": [
    {
     "data": {
      "text/plain": [
       "expected_img_count    371354.0\n",
       "real_img_count        328562.0\n",
       "dtype: float64"
      ]
     },
     "execution_count": 85,
     "metadata": {},
     "output_type": "execute_result"
    }
   ],
   "source": [
    "# Оригинальный набор данных\n",
    "o_df[['expected_img_count','real_img_count']].sum()"
   ]
  },
  {
   "cell_type": "markdown",
   "metadata": {},
   "source": [
    "### Получение разницы между ожидаемым и реальным числом собранных изображений"
   ]
  },
  {
   "cell_type": "code",
   "execution_count": 68,
   "metadata": {
    "collapsed": true
   },
   "outputs": [],
   "source": [
    "df['count_diff'] = [row['expected_img_count'] - row['real_img_count'] for index, row  in df.iterrows()]"
   ]
  },
  {
   "cell_type": "markdown",
   "metadata": {},
   "source": [
    "### Выделение основных и уникальнах категории на основе структуры пути"
   ]
  },
  {
   "cell_type": "code",
   "execution_count": 69,
   "metadata": {},
   "outputs": [
    {
     "name": "stdout",
     "output_type": "stream",
     "text": [
      "8\n"
     ]
    }
   ],
   "source": [
    "#df['category'] = [full_path.rsplit('\\\\')[-1] for full_path in df['category_path']]\n",
    "#print(len(df.groupby('category').count()))\n",
    "df['main_category'] = [full_path.rsplit('\\\\')[0] for full_path in df['category_path']]\n",
    "print(len(df.groupby('main_category').count()))"
   ]
  },
  {
   "cell_type": "markdown",
   "metadata": {},
   "source": [
    "### Распределение числа патентов по основным категориям\n",
    "* A — УДОВЛЕТВОРЕНИЕ ЖИЗНЕННЫХ ПОТРЕБНОСТЕЙ ЧЕЛОВЕКА\n",
    "* B — РАЗЛИЧНЫЕ ТЕХНОЛОГИЧЕСКИЕ ПРОЦЕССЫ; ТРАНСПОРТИРОВАНИЕ\n",
    "* C — ХИМИЯ; МЕТАЛЛУРГИЯ\n",
    "* D — ТЕКСТИЛЬ; БУМАГА\n",
    "* E — СТРОИТЕЛЬСТВО; ГОРНОЕ ДЕЛО\n",
    "* F — МАШИНОСТРОЕНИЕ; ОСВЕЩЕНИЕ; ОТОПЛЕНИЕ; ДВИГАТЕЛИ И НАСОСЫ; ОРУЖИЕ И БОЕПРИПАСЫ; ВЗРЫВНЫЕ РАБОТЫ\n",
    "* G — ФИЗИКА\n",
    "* H — ЭЛЕКТРИЧЕСТВО\n"
   ]
  },
  {
   "cell_type": "code",
   "execution_count": 70,
   "metadata": {},
   "outputs": [
    {
     "data": {
      "text/plain": [
       "<matplotlib.axes._subplots.AxesSubplot at 0x241082f3358>"
      ]
     },
     "execution_count": 70,
     "metadata": {},
     "output_type": "execute_result"
    },
    {
     "data": {
      "image/png": "[encoded data removed]",
      "text/plain": [
       "<matplotlib.figure.Figure at 0x241082f3fd0>"
      ]
     },
     "metadata": {},
     "output_type": "display_data"
    }
   ],
   "source": [
    "df['main_category'].value_counts().plot.bar()"
   ]
  },
  {
   "cell_type": "code",
   "execution_count": 71,
   "metadata": {},
   "outputs": [
    {
     "data": {
      "text/plain": [
       "<matplotlib.axes._subplots.AxesSubplot at 0x241082f39e8>"
      ]
     },
     "execution_count": 71,
     "metadata": {},
     "output_type": "execute_result"
    },
    {
     "data": {
      "image/png": "[encoded data removed]",
      "text/plain": [
       "<matplotlib.figure.Figure at 0x2410896f128>"
      ]
     },
     "metadata": {},
     "output_type": "display_data"
    }
   ],
   "source": [
    "df.groupby('main_category')['count_diff','expected_img_count','real_img_count'].mean().plot.bar(\n",
    "    title='Среднее ожидаемое число/отсутствующее число/собранное число \\n изображений по категоряим')"
   ]
  },
  {
   "cell_type": "markdown",
   "metadata": {},
   "source": [
    "### Сумарное число ожидаемого кол-ва изображений/ отсутсвующего кол-ва/ собранного  кол-ва изображений по категориям"
   ]
  },
  {
   "cell_type": "code",
   "execution_count": 72,
   "metadata": {},
   "outputs": [
    {
     "data": {
      "text/html": [
       "<div>\n",
       "<style>\n",
       "    .dataframe thead tr:only-child th {\n",
       "        text-align: right;\n",
       "    }\n",
       "\n",
       "    .dataframe thead th {\n",
       "        text-align: left;\n",
       "    }\n",
       "\n",
       "    .dataframe tbody tr th {\n",
       "        vertical-align: top;\n",
       "    }\n",
       "</style>\n",
       "<table border=\"1\" class=\"dataframe\">\n",
       "  <thead>\n",
       "    <tr style=\"text-align: right;\">\n",
       "      <th></th>\n",
       "      <th>count_diff</th>\n",
       "      <th>expected_img_count</th>\n",
       "      <th>real_img_count</th>\n",
       "    </tr>\n",
       "    <tr>\n",
       "      <th>main_category</th>\n",
       "      <th></th>\n",
       "      <th></th>\n",
       "      <th></th>\n",
       "    </tr>\n",
       "  </thead>\n",
       "  <tbody>\n",
       "    <tr>\n",
       "      <th>A</th>\n",
       "      <td>16447.0</td>\n",
       "      <td>82868</td>\n",
       "      <td>66421.0</td>\n",
       "    </tr>\n",
       "    <tr>\n",
       "      <th>B</th>\n",
       "      <td>27853.0</td>\n",
       "      <td>72359</td>\n",
       "      <td>44506.0</td>\n",
       "    </tr>\n",
       "    <tr>\n",
       "      <th>C</th>\n",
       "      <td>51504.0</td>\n",
       "      <td>156678</td>\n",
       "      <td>105174.0</td>\n",
       "    </tr>\n",
       "    <tr>\n",
       "      <th>D</th>\n",
       "      <td>8748.0</td>\n",
       "      <td>13724</td>\n",
       "      <td>4976.0</td>\n",
       "    </tr>\n",
       "    <tr>\n",
       "      <th>E</th>\n",
       "      <td>6650.0</td>\n",
       "      <td>20872</td>\n",
       "      <td>14222.0</td>\n",
       "    </tr>\n",
       "    <tr>\n",
       "      <th>F</th>\n",
       "      <td>18116.0</td>\n",
       "      <td>54617</td>\n",
       "      <td>36501.0</td>\n",
       "    </tr>\n",
       "    <tr>\n",
       "      <th>G</th>\n",
       "      <td>26084.0</td>\n",
       "      <td>71624</td>\n",
       "      <td>45540.0</td>\n",
       "    </tr>\n",
       "    <tr>\n",
       "      <th>H</th>\n",
       "      <td>11329.0</td>\n",
       "      <td>22551</td>\n",
       "      <td>11222.0</td>\n",
       "    </tr>\n",
       "  </tbody>\n",
       "</table>\n",
       "</div>"
      ],
      "text/plain": [
       "               count_diff  expected_img_count  real_img_count\n",
       "main_category                                                \n",
       "A                 16447.0               82868         66421.0\n",
       "B                 27853.0               72359         44506.0\n",
       "C                 51504.0              156678        105174.0\n",
       "D                  8748.0               13724          4976.0\n",
       "E                  6650.0               20872         14222.0\n",
       "F                 18116.0               54617         36501.0\n",
       "G                 26084.0               71624         45540.0\n",
       "H                 11329.0               22551         11222.0"
      ]
     },
     "execution_count": 72,
     "metadata": {},
     "output_type": "execute_result"
    }
   ],
   "source": [
    "df.pivot_table(values=['count_diff','expected_img_count','real_img_count'],index=['main_category'], aggfunc=np.sum)"
   ]
  },
  {
   "cell_type": "markdown",
   "metadata": {
    "collapsed": true
   },
   "source": [
    "### Полное разбиение на  категории\n"
   ]
  },
  {
   "cell_type": "markdown",
   "metadata": {},
   "source": [
    "#### Максимальная и минимальная длина пути "
   ]
  },
  {
   "cell_type": "code",
   "execution_count": 73,
   "metadata": {
    "collapsed": true
   },
   "outputs": [],
   "source": [
    "from operator import methodcaller\n",
    "depths = df['category_path'].map(methodcaller(\"split\", \"\\\\\")).map(len)"
   ]
  },
  {
   "cell_type": "code",
   "execution_count": 74,
   "metadata": {},
   "outputs": [
    {
     "name": "stdout",
     "output_type": "stream",
     "text": [
      "6 2\n"
     ]
    }
   ],
   "source": [
    "max_depth = depths.max()\n",
    "min_depth = depths.min()\n",
    "print(max_depth, min_depth)"
   ]
  },
  {
   "cell_type": "code",
   "execution_count": 75,
   "metadata": {
    "collapsed": true
   },
   "outputs": [],
   "source": [
    "# Подготовка  колонок для пути\n",
    "for i in range(max_depth):\n",
    "    df['level'+str(i)] = None"
   ]
  },
  {
   "cell_type": "markdown",
   "metadata": {},
   "source": [
    "#### Вариации длин пути"
   ]
  },
  {
   "cell_type": "code",
   "execution_count": 76,
   "metadata": {},
   "outputs": [
    {
     "data": {
      "text/plain": [
       "5    41714\n",
       "4     3185\n",
       "3       15\n",
       "6       12\n",
       "2        3\n",
       "Name: category_path, dtype: int64"
      ]
     },
     "execution_count": 76,
     "metadata": {},
     "output_type": "execute_result"
    }
   ],
   "source": [
    "df['category_path'].str.split('\\\\').map(len).value_counts()"
   ]
  },
  {
   "cell_type": "code",
   "execution_count": 77,
   "metadata": {
    "collapsed": true
   },
   "outputs": [],
   "source": [
    "### Разбиение пути на уровни с дополнением слишком коротких путей до макс.длины\n",
    "tmp = df['category_path'].str.split('\\\\', expand=True)\n",
    "df[ ['level'+str(i) for i in range(max_depth)] ] = tmp\n",
    "o_df[ ['level'+str(i) for i in range(max_depth)] ] = tmp\n",
    "#df.head(5)[['level'+str(i) for i in range(max_depth)]]"
   ]
  },
  {
   "cell_type": "markdown",
   "metadata": {},
   "source": [
    "###  Анализ числа категорий по уровням."
   ]
  },
  {
   "cell_type": "markdown",
   "metadata": {},
   "source": [
    "#### Таблица и график числа категорий на каждом уровне, сгрупировання по основной категории."
   ]
  },
  {
   "cell_type": "code",
   "execution_count": 78,
   "metadata": {},
   "outputs": [
    {
     "data": {
      "text/html": [
       "<div>\n",
       "<style>\n",
       "    .dataframe thead tr:only-child th {\n",
       "        text-align: right;\n",
       "    }\n",
       "\n",
       "    .dataframe thead th {\n",
       "        text-align: left;\n",
       "    }\n",
       "\n",
       "    .dataframe tbody tr th {\n",
       "        vertical-align: top;\n",
       "    }\n",
       "</style>\n",
       "<table border=\"1\" class=\"dataframe\">\n",
       "  <thead>\n",
       "    <tr style=\"text-align: right;\">\n",
       "      <th></th>\n",
       "      <th>level1</th>\n",
       "      <th>level2</th>\n",
       "      <th>level3</th>\n",
       "      <th>level4</th>\n",
       "      <th>level5</th>\n",
       "    </tr>\n",
       "    <tr>\n",
       "      <th>main_category</th>\n",
       "      <th></th>\n",
       "      <th></th>\n",
       "      <th></th>\n",
       "      <th></th>\n",
       "      <th></th>\n",
       "    </tr>\n",
       "  </thead>\n",
       "  <tbody>\n",
       "    <tr>\n",
       "      <th>A</th>\n",
       "      <td>9</td>\n",
       "      <td>36</td>\n",
       "      <td>234</td>\n",
       "      <td>899</td>\n",
       "      <td>1</td>\n",
       "    </tr>\n",
       "    <tr>\n",
       "      <th>B</th>\n",
       "      <td>20</td>\n",
       "      <td>61</td>\n",
       "      <td>422</td>\n",
       "      <td>1573</td>\n",
       "      <td>0</td>\n",
       "    </tr>\n",
       "    <tr>\n",
       "      <th>C</th>\n",
       "      <td>16</td>\n",
       "      <td>49</td>\n",
       "      <td>333</td>\n",
       "      <td>1545</td>\n",
       "      <td>6</td>\n",
       "    </tr>\n",
       "    <tr>\n",
       "      <th>D</th>\n",
       "      <td>8</td>\n",
       "      <td>23</td>\n",
       "      <td>119</td>\n",
       "      <td>475</td>\n",
       "      <td>0</td>\n",
       "    </tr>\n",
       "    <tr>\n",
       "      <th>E</th>\n",
       "      <td>4</td>\n",
       "      <td>12</td>\n",
       "      <td>91</td>\n",
       "      <td>375</td>\n",
       "      <td>0</td>\n",
       "    </tr>\n",
       "    <tr>\n",
       "      <th>F</th>\n",
       "      <td>15</td>\n",
       "      <td>52</td>\n",
       "      <td>334</td>\n",
       "      <td>1074</td>\n",
       "      <td>0</td>\n",
       "    </tr>\n",
       "    <tr>\n",
       "      <th>G</th>\n",
       "      <td>10</td>\n",
       "      <td>42</td>\n",
       "      <td>219</td>\n",
       "      <td>1331</td>\n",
       "      <td>2</td>\n",
       "    </tr>\n",
       "    <tr>\n",
       "      <th>H</th>\n",
       "      <td>3</td>\n",
       "      <td>9</td>\n",
       "      <td>64</td>\n",
       "      <td>288</td>\n",
       "      <td>1</td>\n",
       "    </tr>\n",
       "  </tbody>\n",
       "</table>\n",
       "</div>"
      ],
      "text/plain": [
       "               level1  level2  level3  level4  level5\n",
       "main_category                                        \n",
       "A                   9      36     234     899       1\n",
       "B                  20      61     422    1573       0\n",
       "C                  16      49     333    1545       6\n",
       "D                   8      23     119     475       0\n",
       "E                   4      12      91     375       0\n",
       "F                  15      52     334    1074       0\n",
       "G                  10      42     219    1331       2\n",
       "H                   3       9      64     288       1"
      ]
     },
     "execution_count": 78,
     "metadata": {},
     "output_type": "execute_result"
    },
    {
     "data": {
      "image/png": "[encoded data removed]",
      "text/plain": [
       "<matplotlib.figure.Figure at 0x24107dca550>"
      ]
     },
     "metadata": {},
     "output_type": "display_data"
    }
   ],
   "source": [
    "cols = ['level'+str(i) for i in range(1,max_depth)]\n",
    "\n",
    "# косяк с версией pandas.\n",
    "# для версии на ноуте:\n",
    "df.groupby('main_category')[cols].nunique().plot.bar()\n",
    "df.groupby('main_category')[cols].nunique()\n",
    "\n",
    "# для версии на стационарнике( не доработано):\n",
    "#df.groupby('main_category')['level1'].nunique()"
   ]
  },
  {
   "cell_type": "code",
   "execution_count": 79,
   "metadata": {
    "collapsed": true,
    "scrolled": true
   },
   "outputs": [],
   "source": [
    "# Таблица  числа категорий на каждом уровне, сгрупировання по основной категории  и первому уровню(неинтересно)\n",
    "cols = ['level'+str(i) for i in range(1,max_depth)]\n",
    "#df.groupby(['main_category','level1'])[cols[1:]].nunique()"
   ]
  },
  {
   "cell_type": "markdown",
   "metadata": {},
   "source": [
    "### Анализ числа изображений по всем уровням разбиения."
   ]
  },
  {
   "cell_type": "markdown",
   "metadata": {},
   "source": [
    "####   Общая статистика по числу изображений по категориям первого уровня"
   ]
  },
  {
   "cell_type": "code",
   "execution_count": 80,
   "metadata": {},
   "outputs": [
    {
     "data": {
      "text/html": [
       "<div>\n",
       "<style>\n",
       "    .dataframe thead tr:only-child th {\n",
       "        text-align: right;\n",
       "    }\n",
       "\n",
       "    .dataframe thead th {\n",
       "        text-align: left;\n",
       "    }\n",
       "\n",
       "    .dataframe tbody tr th {\n",
       "        vertical-align: top;\n",
       "    }\n",
       "</style>\n",
       "<table border=\"1\" class=\"dataframe\">\n",
       "  <thead>\n",
       "    <tr style=\"text-align: right;\">\n",
       "      <th></th>\n",
       "      <th>min</th>\n",
       "      <th>max</th>\n",
       "      <th>mean</th>\n",
       "    </tr>\n",
       "  </thead>\n",
       "  <tbody>\n",
       "    <tr>\n",
       "      <th>expected_img_count</th>\n",
       "      <td>3.0</td>\n",
       "      <td>95417.0</td>\n",
       "      <td>4528.707317</td>\n",
       "    </tr>\n",
       "    <tr>\n",
       "      <th>real_img_count</th>\n",
       "      <td>2.0</td>\n",
       "      <td>91359.0</td>\n",
       "      <td>4006.853659</td>\n",
       "    </tr>\n",
       "  </tbody>\n",
       "</table>\n",
       "</div>"
      ],
      "text/plain": [
       "                    min      max         mean\n",
       "expected_img_count  3.0  95417.0  4528.707317\n",
       "real_img_count      2.0  91359.0  4006.853659"
      ]
     },
     "execution_count": 80,
     "metadata": {},
     "output_type": "execute_result"
    }
   ],
   "source": [
    "level1_img_stats =  df.groupby('level1')[['expected_img_count','real_img_count']].sum()\n",
    "o_level1_img_stats =  o_df.groupby('level1')[['expected_img_count','real_img_count']].sum()\n",
    "level1_img_stats.agg(['min','max','mean']).T\n",
    "o_level1_img_stats.agg(['min','max','mean']).T"
   ]
  },
  {
   "cell_type": "markdown",
   "metadata": {},
   "source": [
    "#### Описание распредления числа изображений по категориям уровня 1"
   ]
  },
  {
   "cell_type": "code",
   "execution_count": 82,
   "metadata": {},
   "outputs": [
    {
     "data": {
      "text/plain": [
       "<matplotlib.text.Text at 0x24108ec6278>"
      ]
     },
     "execution_count": 82,
     "metadata": {},
     "output_type": "execute_result"
    },
    {
     "data": {
      "image/png": "[encoded data removed]",
      "text/plain": [
       "<matplotlib.figure.Figure at 0x24108c35630>"
      ]
     },
     "metadata": {},
     "output_type": "display_data"
    }
   ],
   "source": [
    "_, axes = plt.subplots(nrows=2, ncols=1,figsize=(20,8),sharex=True)\n",
    "#sns.boxplot(x='expected_img_count', data=level1_img_stats)\n",
    "o_level1_img_stats.plot.box(widths=0.85,vert=False,showfliers=False, \n",
    "                          flierprops={'markersize':5, 'marker':'o', 'markerfacecolor':'green'},\n",
    "                          ax=axes[0]\n",
    "                         )\n",
    "level1_img_stats.plot.box(widths=0.85,vert=False,showfliers=False, \n",
    "                          flierprops={'markersize':5, 'marker':'o', 'markerfacecolor':'green'},\n",
    "                          ax=axes[1]\n",
    "                         )\n",
    "\n",
    "axes[0].set_title('Распределение для величин \"реальное\" и \"ожидаемое\" число изображений.\\nОригинальные данные.',\n",
    "                  size=18)\n",
    "axes[1].set_title('Распределение для величин \"реальное\" и \"ожидаемое\" число изображений.\\nСинтетически дополненные данные.', \n",
    "                  size=18)"
   ]
  },
  {
   "cell_type": "markdown",
   "metadata": {},
   "source": [
    "** Неясно почему слегка изменился ящик, отображающий распределение реального числа изображений. Статистика по нему не менялась и общее кол-во осталось прежним(было показано выше)**"
   ]
  },
  {
   "cell_type": "markdown",
   "metadata": {},
   "source": [
    "#### Выводы по диаграммам размаха:\n",
    "***\n",
    "Синтетически дополненные  данные:\n",
    "##### 1) Ожидаемое число изображений по категориям:\n",
    "* половина  категорий первого уровня будет содержать  не менее ~1800 изображений\n",
    "* четверть категорий первого уровня будет содержать от ~600 до 1800 изображений (2 квартиль)\n",
    "* четверть категорий первого уровня будеть содержать  от ~ 1800 до ~5200 изображений(3 квартиль)\n",
    "***\n",
    "##### 2) Собранное число изображений по категориям:\n",
    "* половина  категорий первого уровня уже содержит  не менее 800 изображений\n",
    "* четверть категорий первого уровня уже содержит от ~200 до 800 изображений ( 2 квартиль)\n",
    "* четверть категорий первого уровня уже содержат  от ~ 800 до 3200 изображений ( 3 квартиль)\n",
    "****"
   ]
  },
  {
   "cell_type": "markdown",
   "metadata": {},
   "source": [
    "#### Топ 5 категорий первого уровня по реальному числу собранных изображений"
   ]
  },
  {
   "cell_type": "code",
   "execution_count": 87,
   "metadata": {},
   "outputs": [
    {
     "data": {
      "text/html": [
       "<div>\n",
       "<style>\n",
       "    .dataframe thead tr:only-child th {\n",
       "        text-align: right;\n",
       "    }\n",
       "\n",
       "    .dataframe thead th {\n",
       "        text-align: left;\n",
       "    }\n",
       "\n",
       "    .dataframe tbody tr th {\n",
       "        vertical-align: top;\n",
       "    }\n",
       "</style>\n",
       "<table border=\"1\" class=\"dataframe\">\n",
       "  <thead>\n",
       "    <tr style=\"text-align: right;\">\n",
       "      <th></th>\n",
       "      <th>expected_img_count</th>\n",
       "      <th>real_img_count</th>\n",
       "    </tr>\n",
       "    <tr>\n",
       "      <th>level1</th>\n",
       "      <th></th>\n",
       "      <th></th>\n",
       "    </tr>\n",
       "  </thead>\n",
       "  <tbody>\n",
       "    <tr>\n",
       "      <th>C07</th>\n",
       "      <td>122338</td>\n",
       "      <td>91359.0</td>\n",
       "    </tr>\n",
       "    <tr>\n",
       "      <th>A61</th>\n",
       "      <td>51282</td>\n",
       "      <td>42203.0</td>\n",
       "    </tr>\n",
       "    <tr>\n",
       "      <th>G01</th>\n",
       "      <td>37951</td>\n",
       "      <td>25830.0</td>\n",
       "    </tr>\n",
       "    <tr>\n",
       "      <th>A01</th>\n",
       "      <td>20826</td>\n",
       "      <td>17965.0</td>\n",
       "    </tr>\n",
       "    <tr>\n",
       "      <th>G06</th>\n",
       "      <td>17826</td>\n",
       "      <td>11485.0</td>\n",
       "    </tr>\n",
       "  </tbody>\n",
       "</table>\n",
       "</div>"
      ],
      "text/plain": [
       "        expected_img_count  real_img_count\n",
       "level1                                    \n",
       "C07                 122338         91359.0\n",
       "A61                  51282         42203.0\n",
       "G01                  37951         25830.0\n",
       "A01                  20826         17965.0\n",
       "G06                  17826         11485.0"
      ]
     },
     "execution_count": 87,
     "metadata": {},
     "output_type": "execute_result"
    }
   ],
   "source": [
    "# Оригинальные и синтетические данные\n",
    "level1_img_stats.sort_values('real_img_count', ascending=False).head(5)                                                        "
   ]
  },
  {
   "cell_type": "code",
   "execution_count": 88,
   "metadata": {},
   "outputs": [
    {
     "data": {
      "text/html": [
       "<div>\n",
       "<style>\n",
       "    .dataframe thead tr:only-child th {\n",
       "        text-align: right;\n",
       "    }\n",
       "\n",
       "    .dataframe thead th {\n",
       "        text-align: left;\n",
       "    }\n",
       "\n",
       "    .dataframe tbody tr th {\n",
       "        vertical-align: top;\n",
       "    }\n",
       "</style>\n",
       "<table border=\"1\" class=\"dataframe\">\n",
       "  <thead>\n",
       "    <tr style=\"text-align: right;\">\n",
       "      <th></th>\n",
       "      <th>expected_img_count</th>\n",
       "      <th>real_img_count</th>\n",
       "    </tr>\n",
       "    <tr>\n",
       "      <th>level1</th>\n",
       "      <th></th>\n",
       "      <th></th>\n",
       "    </tr>\n",
       "  </thead>\n",
       "  <tbody>\n",
       "    <tr>\n",
       "      <th>C07</th>\n",
       "      <td>95417</td>\n",
       "      <td>91359.0</td>\n",
       "    </tr>\n",
       "    <tr>\n",
       "      <th>A61</th>\n",
       "      <td>47654</td>\n",
       "      <td>42203.0</td>\n",
       "    </tr>\n",
       "    <tr>\n",
       "      <th>G01</th>\n",
       "      <td>29807</td>\n",
       "      <td>25830.0</td>\n",
       "    </tr>\n",
       "    <tr>\n",
       "      <th>A01</th>\n",
       "      <td>19669</td>\n",
       "      <td>17965.0</td>\n",
       "    </tr>\n",
       "    <tr>\n",
       "      <th>G06</th>\n",
       "      <td>12339</td>\n",
       "      <td>11485.0</td>\n",
       "    </tr>\n",
       "  </tbody>\n",
       "</table>\n",
       "</div>"
      ],
      "text/plain": [
       "        expected_img_count  real_img_count\n",
       "level1                                    \n",
       "C07                  95417         91359.0\n",
       "A61                  47654         42203.0\n",
       "G01                  29807         25830.0\n",
       "A01                  19669         17965.0\n",
       "G06                  12339         11485.0"
      ]
     },
     "execution_count": 88,
     "metadata": {},
     "output_type": "execute_result"
    }
   ],
   "source": [
    "# Оригинальные данные\n",
    "o_level1_img_stats.sort_values('real_img_count', ascending=False).head(5)"
   ]
  },
  {
   "cell_type": "code",
   "execution_count": null,
   "metadata": {
    "collapsed": true
   },
   "outputs": [],
   "source": []
  }
 ],
 "metadata": {
  "kernelspec": {
   "display_name": "Python 3",
   "language": "python",
   "name": "python3"
  },
  "language_info": {
   "codemirror_mode": {
    "name": "ipython",
    "version": 3
   },
   "file_extension": ".py",
   "mimetype": "text/x-python",
   "name": "python",
   "nbconvert_exporter": "python",
   "pygments_lexer": "ipython3",
   "version": "3.6.1"
  }
 },
 "nbformat": 4,
 "nbformat_minor": 1
}

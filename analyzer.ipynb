{
 "cells": [
  {
   "cell_type": "code",
   "execution_count": 126,
   "metadata": {},
   "outputs": [
    {
     "name": "stdout",
     "output_type": "stream",
     "text": [
      "Populating the interactive namespace from numpy and matplotlib\n"
     ]
    }
   ],
   "source": [
    "#Настройка предупреждений\n",
    "import warnings\n",
    "warnings.simplefilter('ignore')\n",
    "\n",
    "#Отображение графиков в самом jupyter\n",
    "%pylab inline\n",
    "\n",
    "#Увеличиваем дефолтный размер графиков\n",
    "from pylab import rcParams\n",
    "rcParams['figure.figsize'] = 8, 5\n",
    "\n",
    "import pandas as pd\n",
    "import seaborn as sns"
   ]
  },
  {
   "cell_type": "code",
   "execution_count": 127,
   "metadata": {},
   "outputs": [
    {
     "data": {
      "text/plain": [
       "(47774, 4)"
      ]
     },
     "execution_count": 127,
     "metadata": {},
     "output_type": "execute_result"
    }
   ],
   "source": [
    "df = pd.read_csv('D:\\DataMiningSets\\stat.csv',sep=';')\n",
    "df.shape"
   ]
  },
  {
   "cell_type": "code",
   "execution_count": 128,
   "metadata": {},
   "outputs": [
    {
     "name": "stdout",
     "output_type": "stream",
     "text": [
      "<class 'pandas.core.frame.DataFrame'>\n",
      "RangeIndex: 47774 entries, 0 to 47773\n",
      "Data columns (total 4 columns):\n",
      "id                    47774 non-null object\n",
      "category_path         47774 non-null object\n",
      "expected_img_count    47774 non-null int64\n",
      "real_img_count        47774 non-null int64\n",
      "dtypes: int64(2), object(2)\n",
      "memory usage: 1.5+ MB\n"
     ]
    },
    {
     "data": {
      "text/html": [
       "<div>\n",
       "<style>\n",
       "    .dataframe thead tr:only-child th {\n",
       "        text-align: right;\n",
       "    }\n",
       "\n",
       "    .dataframe thead th {\n",
       "        text-align: left;\n",
       "    }\n",
       "\n",
       "    .dataframe tbody tr th {\n",
       "        vertical-align: top;\n",
       "    }\n",
       "</style>\n",
       "<table border=\"1\" class=\"dataframe\">\n",
       "  <thead>\n",
       "    <tr style=\"text-align: right;\">\n",
       "      <th></th>\n",
       "      <th>id</th>\n",
       "      <th>category_path</th>\n",
       "      <th>expected_img_count</th>\n",
       "      <th>real_img_count</th>\n",
       "    </tr>\n",
       "  </thead>\n",
       "  <tbody>\n",
       "    <tr>\n",
       "      <th>0</th>\n",
       "      <td>2081584</td>\n",
       "      <td>A\\A21\\A21B\\A21B1\\A21B122</td>\n",
       "      <td>2</td>\n",
       "      <td>0</td>\n",
       "    </tr>\n",
       "    <tr>\n",
       "      <th>1</th>\n",
       "      <td>2120757</td>\n",
       "      <td>A\\A21\\A21B\\A21B1\\A21B122</td>\n",
       "      <td>2</td>\n",
       "      <td>1</td>\n",
       "    </tr>\n",
       "    <tr>\n",
       "      <th>2</th>\n",
       "      <td>2275026</td>\n",
       "      <td>A\\A21\\A21B\\A21B1\\A21B122</td>\n",
       "      <td>4</td>\n",
       "      <td>1</td>\n",
       "    </tr>\n",
       "    <tr>\n",
       "      <th>3</th>\n",
       "      <td>2068641</td>\n",
       "      <td>A\\A21\\A21B\\A21B1\\A21B122</td>\n",
       "      <td>2</td>\n",
       "      <td>0</td>\n",
       "    </tr>\n",
       "    <tr>\n",
       "      <th>4</th>\n",
       "      <td>2133093</td>\n",
       "      <td>A\\A21\\A21B\\A21B1\\A21B122</td>\n",
       "      <td>4</td>\n",
       "      <td>2</td>\n",
       "    </tr>\n",
       "  </tbody>\n",
       "</table>\n",
       "</div>"
      ],
      "text/plain": [
       "        id             category_path  expected_img_count  real_img_count\n",
       "0  2081584  A\\A21\\A21B\\A21B1\\A21B122                   2               0\n",
       "1  2120757  A\\A21\\A21B\\A21B1\\A21B122                   2               1\n",
       "2  2275026  A\\A21\\A21B\\A21B1\\A21B122                   4               1\n",
       "3  2068641  A\\A21\\A21B\\A21B1\\A21B122                   2               0\n",
       "4  2133093  A\\A21\\A21B\\A21B1\\A21B122                   4               2"
      ]
     },
     "execution_count": 128,
     "metadata": {},
     "output_type": "execute_result"
    }
   ],
   "source": [
    "df.info()\n",
    "df.head()"
   ]
  },
  {
   "cell_type": "markdown",
   "metadata": {},
   "source": [
    "### Ожидаемое  и  собранное число изображений"
   ]
  },
  {
   "cell_type": "code",
   "execution_count": 129,
   "metadata": {},
   "outputs": [
    {
     "data": {
      "text/plain": [
       "expected_img_count    345367\n",
       "real_img_count        212591\n",
       "dtype: int64"
      ]
     },
     "execution_count": 129,
     "metadata": {},
     "output_type": "execute_result"
    }
   ],
   "source": [
    "df[['expected_img_count','real_img_count']].sum()"
   ]
  },
  {
   "cell_type": "markdown",
   "metadata": {},
   "source": [
    "### Получение разницы между ожидаемым и реальным числом собранных изображений"
   ]
  },
  {
   "cell_type": "code",
   "execution_count": 130,
   "metadata": {
    "collapsed": true
   },
   "outputs": [],
   "source": [
    "df['count_diff'] = [row['expected_img_count'] - row['real_img_count'] for index, row  in df.iterrows()]"
   ]
  },
  {
   "cell_type": "markdown",
   "metadata": {},
   "source": [
    "### Выделение основных и уникальнах категории на основе структуры пути"
   ]
  },
  {
   "cell_type": "code",
   "execution_count": 131,
   "metadata": {},
   "outputs": [
    {
     "name": "stdout",
     "output_type": "stream",
     "text": [
      "8\n"
     ]
    }
   ],
   "source": [
    "#df['category'] = [full_path.rsplit('\\\\')[-1] for full_path in df['category_path']]\n",
    "#print(len(df.groupby('category').count()))\n",
    "\n",
    "df['main_category'] = [full_path.rsplit('\\\\')[0] for full_path in df['category_path']]\n",
    "print(len(df.groupby('main_category').count()))"
   ]
  },
  {
   "cell_type": "markdown",
   "metadata": {},
   "source": [
    "### Распределение числа патентов по основным категориям\n",
    "* A — УДОВЛЕТВОРЕНИЕ ЖИЗНЕННЫХ ПОТРЕБНОСТЕЙ ЧЕЛОВЕКА\n",
    "* B — РАЗЛИЧНЫЕ ТЕХНОЛОГИЧЕСКИЕ ПРОЦЕССЫ; ТРАНСПОРТИРОВАНИЕ\n",
    "* C — ХИМИЯ; МЕТАЛЛУРГИЯ\n",
    "* D — ТЕКСТИЛЬ; БУМАГА\n",
    "* E — СТРОИТЕЛЬСТВО; ГОРНОЕ ДЕЛО\n",
    "* F — МАШИНОСТРОЕНИЕ; ОСВЕЩЕНИЕ; ОТОПЛЕНИЕ; ДВИГАТЕЛИ И НАСОСЫ; ОРУЖИЕ И БОЕПРИПАСЫ; ВЗРЫВНЫЕ РАБОТЫ\n",
    "* G — ФИЗИКА\n",
    "* H — ЭЛЕКТРИЧЕСТВО\n"
   ]
  },
  {
   "cell_type": "code",
   "execution_count": 132,
   "metadata": {},
   "outputs": [
    {
     "data": {
      "text/plain": [
       "<matplotlib.axes._subplots.AxesSubplot at 0x2b1990c0080>"
      ]
     },
     "execution_count": 132,
     "metadata": {},
     "output_type": "execute_result"
    },
    {
     "data": {
      "image/png": "[encoded data removed]",
      "text/plain": [
       "<matplotlib.figure.Figure at 0x2b199094710>"
      ]
     },
     "metadata": {},
     "output_type": "display_data"
    }
   ],
   "source": [
    "df['main_category'].value_counts().plot.bar()"
   ]
  },
  {
   "cell_type": "code",
   "execution_count": 133,
   "metadata": {},
   "outputs": [
    {
     "data": {
      "text/plain": [
       "<matplotlib.axes._subplots.AxesSubplot at 0x2b1994f4b70>"
      ]
     },
     "execution_count": 133,
     "metadata": {},
     "output_type": "execute_result"
    },
    {
     "data": {
      "image/png": "[encoded data removed]",
      "text/plain": [
       "<matplotlib.figure.Figure at 0x2b1993ae5f8>"
      ]
     },
     "metadata": {},
     "output_type": "display_data"
    }
   ],
   "source": [
    "df.groupby('main_category')['count_diff','expected_img_count','real_img_count'].mean().plot.bar(\n",
    "    title='Среднее ожидаемое число/отсутствующее число/собранное число \\n изображений по категоряим')"
   ]
  },
  {
   "cell_type": "markdown",
   "metadata": {},
   "source": [
    "### Сумарное число ожидаемого кол-ва изображений/ отсутсвующего кол-ва/ собранного  кол-ва изображений по категориям"
   ]
  },
  {
   "cell_type": "code",
   "execution_count": 134,
   "metadata": {},
   "outputs": [
    {
     "data": {
      "text/html": [
       "<div>\n",
       "<style>\n",
       "    .dataframe thead tr:only-child th {\n",
       "        text-align: right;\n",
       "    }\n",
       "\n",
       "    .dataframe thead th {\n",
       "        text-align: left;\n",
       "    }\n",
       "\n",
       "    .dataframe tbody tr th {\n",
       "        vertical-align: top;\n",
       "    }\n",
       "</style>\n",
       "<table border=\"1\" class=\"dataframe\">\n",
       "  <thead>\n",
       "    <tr style=\"text-align: right;\">\n",
       "      <th></th>\n",
       "      <th>count_diff</th>\n",
       "      <th>expected_img_count</th>\n",
       "      <th>real_img_count</th>\n",
       "    </tr>\n",
       "    <tr>\n",
       "      <th>main_category</th>\n",
       "      <th></th>\n",
       "      <th></th>\n",
       "      <th></th>\n",
       "    </tr>\n",
       "  </thead>\n",
       "  <tbody>\n",
       "    <tr>\n",
       "      <th>A</th>\n",
       "      <td>13029</td>\n",
       "      <td>32948</td>\n",
       "      <td>19919</td>\n",
       "    </tr>\n",
       "    <tr>\n",
       "      <th>B</th>\n",
       "      <td>20899</td>\n",
       "      <td>53911</td>\n",
       "      <td>33012</td>\n",
       "    </tr>\n",
       "    <tr>\n",
       "      <th>C</th>\n",
       "      <td>31118</td>\n",
       "      <td>80524</td>\n",
       "      <td>49406</td>\n",
       "    </tr>\n",
       "    <tr>\n",
       "      <th>D</th>\n",
       "      <td>2774</td>\n",
       "      <td>6823</td>\n",
       "      <td>4049</td>\n",
       "    </tr>\n",
       "    <tr>\n",
       "      <th>E</th>\n",
       "      <td>3981</td>\n",
       "      <td>10134</td>\n",
       "      <td>6153</td>\n",
       "    </tr>\n",
       "    <tr>\n",
       "      <th>F</th>\n",
       "      <td>21543</td>\n",
       "      <td>53689</td>\n",
       "      <td>32146</td>\n",
       "    </tr>\n",
       "    <tr>\n",
       "      <th>G</th>\n",
       "      <td>10935</td>\n",
       "      <td>30338</td>\n",
       "      <td>19403</td>\n",
       "    </tr>\n",
       "    <tr>\n",
       "      <th>H</th>\n",
       "      <td>28497</td>\n",
       "      <td>77000</td>\n",
       "      <td>48503</td>\n",
       "    </tr>\n",
       "  </tbody>\n",
       "</table>\n",
       "</div>"
      ],
      "text/plain": [
       "               count_diff  expected_img_count  real_img_count\n",
       "main_category                                                \n",
       "A                   13029               32948           19919\n",
       "B                   20899               53911           33012\n",
       "C                   31118               80524           49406\n",
       "D                    2774                6823            4049\n",
       "E                    3981               10134            6153\n",
       "F                   21543               53689           32146\n",
       "G                   10935               30338           19403\n",
       "H                   28497               77000           48503"
      ]
     },
     "execution_count": 134,
     "metadata": {},
     "output_type": "execute_result"
    }
   ],
   "source": [
    "df.pivot_table(values=['count_diff','expected_img_count','real_img_count'],index=['main_category'], aggfunc=np.sum)"
   ]
  },
  {
   "cell_type": "markdown",
   "metadata": {
    "collapsed": true
   },
   "source": [
    "### Полное разбиение на  категории\n"
   ]
  },
  {
   "cell_type": "markdown",
   "metadata": {},
   "source": [
    "#### Максимальная и минимальная длина пути "
   ]
  },
  {
   "cell_type": "code",
   "execution_count": 135,
   "metadata": {
    "collapsed": true
   },
   "outputs": [],
   "source": [
    "from operator import methodcaller\n",
    "depths = df['category_path'].map(methodcaller(\"split\", \"\\\\\")).map(len)"
   ]
  },
  {
   "cell_type": "code",
   "execution_count": 136,
   "metadata": {},
   "outputs": [
    {
     "name": "stdout",
     "output_type": "stream",
     "text": [
      "5 3\n"
     ]
    }
   ],
   "source": [
    "max_depth = depths.max()\n",
    "min_depth = depths.min()\n",
    "print(max_depth, min_depth)"
   ]
  },
  {
   "cell_type": "code",
   "execution_count": 137,
   "metadata": {
    "collapsed": true
   },
   "outputs": [],
   "source": [
    "# Подготовка  колонок для пути\n",
    "for i in range(max_depth):\n",
    "    df['level'+str(i)] = None"
   ]
  },
  {
   "cell_type": "markdown",
   "metadata": {},
   "source": [
    "#### Вариации длин пути"
   ]
  },
  {
   "cell_type": "code",
   "execution_count": 138,
   "metadata": {},
   "outputs": [
    {
     "data": {
      "text/plain": [
       "5    44826\n",
       "4     2947\n",
       "3        1\n",
       "Name: category_path, dtype: int64"
      ]
     },
     "execution_count": 138,
     "metadata": {},
     "output_type": "execute_result"
    }
   ],
   "source": [
    "df['category_path'].str.split('\\\\').map(len).value_counts()"
   ]
  },
  {
   "cell_type": "code",
   "execution_count": 139,
   "metadata": {},
   "outputs": [],
   "source": [
    "### Разбиение пути на уровни с дополнением слишком коротких путей до макс.длины\n",
    "tmp = df['category_path'].str.split('\\\\', expand=True)\n",
    "df[ ['level'+str(i) for i in range(max_depth)] ] = tmp\n",
    "#df.head(5)[['level'+str(i) for i in range(max_depth)]]"
   ]
  },
  {
   "cell_type": "markdown",
   "metadata": {},
   "source": [
    "###  Анализ числа категорий по уровням."
   ]
  },
  {
   "cell_type": "markdown",
   "metadata": {},
   "source": [
    "#### Таблица и график числа категорий на каждом уровне, сгрупировання по основной категории."
   ]
  },
  {
   "cell_type": "code",
   "execution_count": 140,
   "metadata": {},
   "outputs": [
    {
     "data": {
      "text/html": [
       "<div>\n",
       "<style>\n",
       "    .dataframe thead tr:only-child th {\n",
       "        text-align: right;\n",
       "    }\n",
       "\n",
       "    .dataframe thead th {\n",
       "        text-align: left;\n",
       "    }\n",
       "\n",
       "    .dataframe tbody tr th {\n",
       "        vertical-align: top;\n",
       "    }\n",
       "</style>\n",
       "<table border=\"1\" class=\"dataframe\">\n",
       "  <thead>\n",
       "    <tr style=\"text-align: right;\">\n",
       "      <th></th>\n",
       "      <th>level1</th>\n",
       "      <th>level2</th>\n",
       "      <th>level3</th>\n",
       "      <th>level4</th>\n",
       "    </tr>\n",
       "    <tr>\n",
       "      <th>main_category</th>\n",
       "      <th></th>\n",
       "      <th></th>\n",
       "      <th></th>\n",
       "      <th></th>\n",
       "    </tr>\n",
       "  </thead>\n",
       "  <tbody>\n",
       "    <tr>\n",
       "      <th>A</th>\n",
       "      <td>11</td>\n",
       "      <td>35</td>\n",
       "      <td>178</td>\n",
       "      <td>607</td>\n",
       "    </tr>\n",
       "    <tr>\n",
       "      <th>B</th>\n",
       "      <td>23</td>\n",
       "      <td>69</td>\n",
       "      <td>391</td>\n",
       "      <td>1228</td>\n",
       "    </tr>\n",
       "    <tr>\n",
       "      <th>C</th>\n",
       "      <td>11</td>\n",
       "      <td>34</td>\n",
       "      <td>320</td>\n",
       "      <td>1743</td>\n",
       "    </tr>\n",
       "    <tr>\n",
       "      <th>D</th>\n",
       "      <td>7</td>\n",
       "      <td>21</td>\n",
       "      <td>94</td>\n",
       "      <td>277</td>\n",
       "    </tr>\n",
       "    <tr>\n",
       "      <th>E</th>\n",
       "      <td>4</td>\n",
       "      <td>14</td>\n",
       "      <td>86</td>\n",
       "      <td>270</td>\n",
       "    </tr>\n",
       "    <tr>\n",
       "      <th>F</th>\n",
       "      <td>13</td>\n",
       "      <td>57</td>\n",
       "      <td>364</td>\n",
       "      <td>1260</td>\n",
       "    </tr>\n",
       "    <tr>\n",
       "      <th>G</th>\n",
       "      <td>9</td>\n",
       "      <td>35</td>\n",
       "      <td>153</td>\n",
       "      <td>498</td>\n",
       "    </tr>\n",
       "    <tr>\n",
       "      <th>H</th>\n",
       "      <td>5</td>\n",
       "      <td>36</td>\n",
       "      <td>263</td>\n",
       "      <td>1518</td>\n",
       "    </tr>\n",
       "  </tbody>\n",
       "</table>\n",
       "</div>"
      ],
      "text/plain": [
       "               level1  level2  level3  level4\n",
       "main_category                                \n",
       "A                  11      35     178     607\n",
       "B                  23      69     391    1228\n",
       "C                  11      34     320    1743\n",
       "D                   7      21      94     277\n",
       "E                   4      14      86     270\n",
       "F                  13      57     364    1260\n",
       "G                   9      35     153     498\n",
       "H                   5      36     263    1518"
      ]
     },
     "execution_count": 140,
     "metadata": {},
     "output_type": "execute_result"
    },
    {
     "data": {
      "image/png": "[encoded data removed]",
      "text/plain": [
       "<matplotlib.figure.Figure at 0x2b18e8e96d8>"
      ]
     },
     "metadata": {},
     "output_type": "display_data"
    }
   ],
   "source": [
    "cols = ['level'+str(i) for i in range(1,max_depth)]\n",
    "df.groupby('main_category')[cols].nunique().plot.bar()\n",
    "df.groupby('main_category')[cols].nunique()"
   ]
  },
  {
   "cell_type": "code",
   "execution_count": 141,
   "metadata": {
    "scrolled": true
   },
   "outputs": [],
   "source": [
    "# Таблица  числа категорий на каждом уровне, сгрупировання по основной категории  и первому уровню(неинтересно)\n",
    "cols = ['level'+str(i) for i in range(1,max_depth)]\n",
    "#df.groupby(['main_category','level1'])[cols[1:]].nunique()"
   ]
  },
  {
   "cell_type": "markdown",
   "metadata": {},
   "source": [
    "### Анализ числа изображений по всем уровням разбиения."
   ]
  },
  {
   "cell_type": "markdown",
   "metadata": {},
   "source": [
    "####   Общая статистика по числу изображений по категориям первого уровня"
   ]
  },
  {
   "cell_type": "code",
   "execution_count": 142,
   "metadata": {},
   "outputs": [
    {
     "data": {
      "text/html": [
       "<div>\n",
       "<style>\n",
       "    .dataframe thead tr:only-child th {\n",
       "        text-align: right;\n",
       "    }\n",
       "\n",
       "    .dataframe thead th {\n",
       "        text-align: left;\n",
       "    }\n",
       "\n",
       "    .dataframe tbody tr th {\n",
       "        vertical-align: top;\n",
       "    }\n",
       "</style>\n",
       "<table border=\"1\" class=\"dataframe\">\n",
       "  <thead>\n",
       "    <tr style=\"text-align: right;\">\n",
       "      <th></th>\n",
       "      <th>min</th>\n",
       "      <th>max</th>\n",
       "      <th>mean</th>\n",
       "    </tr>\n",
       "  </thead>\n",
       "  <tbody>\n",
       "    <tr>\n",
       "      <th>expected_img_count</th>\n",
       "      <td>1.0</td>\n",
       "      <td>48598.0</td>\n",
       "      <td>4161.048193</td>\n",
       "    </tr>\n",
       "    <tr>\n",
       "      <th>real_img_count</th>\n",
       "      <td>0.0</td>\n",
       "      <td>32183.0</td>\n",
       "      <td>2561.337349</td>\n",
       "    </tr>\n",
       "  </tbody>\n",
       "</table>\n",
       "</div>"
      ],
      "text/plain": [
       "                    min      max         mean\n",
       "expected_img_count  1.0  48598.0  4161.048193\n",
       "real_img_count      0.0  32183.0  2561.337349"
      ]
     },
     "execution_count": 142,
     "metadata": {},
     "output_type": "execute_result"
    }
   ],
   "source": [
    "level1_img_stats =  df.groupby('level1')[['expected_img_count','real_img_count']].sum()\n",
    "level1_img_stats.agg(['min','max','mean']).T"
   ]
  },
  {
   "cell_type": "markdown",
   "metadata": {},
   "source": [
    "#### Описание распредления числа изображений по категориям уровня 1"
   ]
  },
  {
   "cell_type": "code",
   "execution_count": 143,
   "metadata": {},
   "outputs": [
    {
     "data": {
      "text/plain": [
       "<matplotlib.axes._subplots.AxesSubplot at 0x2b1991182e8>"
      ]
     },
     "execution_count": 143,
     "metadata": {},
     "output_type": "execute_result"
    },
    {
     "data": {
      "image/png": "[encoded data removed]",
      "text/plain": [
       "<matplotlib.figure.Figure at 0x2b18e467d30>"
      ]
     },
     "metadata": {},
     "output_type": "display_data"
    }
   ],
   "source": [
    "_, axes = plt.subplots(nrows=2, ncols=1,figsize=(20,8))\n",
    "#sns.boxplot(x='expected_img_count', data=level1_img_stats)\n",
    "level1_img_stats.plot.box(widths=0.85,vert=False,showfliers=False, \n",
    "                          flierprops={'markersize':5, 'marker':'o', 'markerfacecolor':'green'},\n",
    "                          ax=axes[0]\n",
    "                         )\n",
    "level1_img_stats.plot.box(widths=0.85,vert=False,showfliers=True, \n",
    "                          flierprops={'markersize':5, 'marker':'o', 'markerfacecolor':'green'},\n",
    "                          ax=axes[1]\n",
    "                         )"
   ]
  },
  {
   "cell_type": "markdown",
   "metadata": {},
   "source": [
    "#### Выводы по диаграммам размаха:\n",
    "***\n",
    "##### 1) Ожидаемое число изображений по категориям:\n",
    "* половина  категорий первого уровня будет содержать  не менее 1500 изображений\n",
    "* четверть категорий первого уровня будет содержать от ~600 до 1500 изображений\n",
    "* четверть категорий первого уровня будеть содержать  от ~ 1500 до 3500 изображений\n",
    "***\n",
    "##### 2) Собранное число изображений по категориям:\n",
    "* половина  категорий первого уровня уже содержит  не менее 1000 изображений\n",
    "* четверть категорий первого уровня уже содержит от ~300 до 1000 изображений\n",
    "* четверть категорий первого уровня уже содержат  от ~ 1000 до 2200 изображений\n",
    "****\n",
    "##### Помимо этого среди категорий первого уровня есть категории, которые предположительно будет содержать около 40, 26, 25 и 22 тысяч изображений при среднем(см.выше) ожидаемом  числе в 4160 изображений на категорию(выбросы)."
   ]
  },
  {
   "cell_type": "markdown",
   "metadata": {},
   "source": [
    "#### Топ 5 категорий первого уровня по реальному числу собранных изображений"
   ]
  },
  {
   "cell_type": "code",
   "execution_count": 144,
   "metadata": {},
   "outputs": [
    {
     "data": {
      "text/html": [
       "<div>\n",
       "<style>\n",
       "    .dataframe thead tr:only-child th {\n",
       "        text-align: right;\n",
       "    }\n",
       "\n",
       "    .dataframe thead th {\n",
       "        text-align: left;\n",
       "    }\n",
       "\n",
       "    .dataframe tbody tr th {\n",
       "        vertical-align: top;\n",
       "    }\n",
       "</style>\n",
       "<table border=\"1\" class=\"dataframe\">\n",
       "  <thead>\n",
       "    <tr style=\"text-align: right;\">\n",
       "      <th></th>\n",
       "      <th>expected_img_count</th>\n",
       "      <th>real_img_count</th>\n",
       "    </tr>\n",
       "    <tr>\n",
       "      <th>level1</th>\n",
       "      <th></th>\n",
       "      <th></th>\n",
       "    </tr>\n",
       "  </thead>\n",
       "  <tbody>\n",
       "    <tr>\n",
       "      <th>C07</th>\n",
       "      <td>48598</td>\n",
       "      <td>32183</td>\n",
       "    </tr>\n",
       "    <tr>\n",
       "      <th>H04</th>\n",
       "      <td>26010</td>\n",
       "      <td>17187</td>\n",
       "    </tr>\n",
       "    <tr>\n",
       "      <th>H01</th>\n",
       "      <td>25076</td>\n",
       "      <td>15337</td>\n",
       "    </tr>\n",
       "    <tr>\n",
       "      <th>F16</th>\n",
       "      <td>22578</td>\n",
       "      <td>13755</td>\n",
       "    </tr>\n",
       "    <tr>\n",
       "      <th>A61</th>\n",
       "      <td>19501</td>\n",
       "      <td>12096</td>\n",
       "    </tr>\n",
       "  </tbody>\n",
       "</table>\n",
       "</div>"
      ],
      "text/plain": [
       "        expected_img_count  real_img_count\n",
       "level1                                    \n",
       "C07                  48598           32183\n",
       "H04                  26010           17187\n",
       "H01                  25076           15337\n",
       "F16                  22578           13755\n",
       "A61                  19501           12096"
      ]
     },
     "execution_count": 144,
     "metadata": {},
     "output_type": "execute_result"
    }
   ],
   "source": [
    "level1_img_stats.sort_values('real_img_count', ascending=False).head(5)"
   ]
  }
 ],
 "metadata": {
  "kernelspec": {
   "display_name": "Python 3",
   "language": "python",
   "name": "python3"
  },
  "language_info": {
   "codemirror_mode": {
    "name": "ipython",
    "version": 3
   },
   "file_extension": ".py",
   "mimetype": "text/x-python",
   "name": "python",
   "nbconvert_exporter": "python",
   "pygments_lexer": "ipython3",
   "version": "3.6.1"
  }
 },
 "nbformat": 4,
 "nbformat_minor": 1
}
